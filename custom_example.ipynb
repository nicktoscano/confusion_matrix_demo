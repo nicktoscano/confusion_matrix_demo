{
 "cells": [
  {
   "cell_type": "code",
   "execution_count": 1,
   "id": "f529e1e5",
   "metadata": {},
   "outputs": [],
   "source": [
    "## Import libraries\n",
    "import random\n",
    "import numpy as np\n",
    "import pandas as pd"
   ]
  },
  {
   "cell_type": "markdown",
   "id": "8cab90eb",
   "metadata": {},
   "source": [
    "<hr />"
   ]
  },
  {
   "cell_type": "markdown",
   "id": "56008839",
   "metadata": {},
   "source": [
    "## Method 1: Dealing with list of values"
   ]
  },
  {
   "cell_type": "code",
   "execution_count": null,
   "id": "94301233",
   "metadata": {},
   "outputs": [],
   "source": [
    "y_true = []\n",
    "# Set a length of the list \n",
    "for i in range(0, 23000):\n",
    "    # any random numbers from 0 to 1\n",
    "    y_true.append(random.randint(0, 1))\n",
    "#print(y_true)"
   ]
  },
  {
   "cell_type": "code",
   "execution_count": null,
   "id": "8db37ded",
   "metadata": {},
   "outputs": [],
   "source": [
    "y_pred = []\n",
    "# Set a length of the list \n",
    "for i in range(0, 23000):\n",
    "    # any random numbers from 0 to 1\n",
    "    y_pred.append(random.randint(0, 1))\n",
    "#print(y_pred)"
   ]
  },
  {
   "cell_type": "markdown",
   "id": "b6470f17",
   "metadata": {},
   "source": [
    "<hr />"
   ]
  },
  {
   "cell_type": "markdown",
   "id": "392fb6ac",
   "metadata": {},
   "source": [
    "## Method 2: Dealing with list of labels"
   ]
  },
  {
   "cell_type": "code",
   "execution_count": 2,
   "id": "a2f636b0",
   "metadata": {},
   "outputs": [
    {
     "data": {
      "text/plain": [
       "3000"
      ]
     },
     "execution_count": 2,
     "metadata": {},
     "output_type": "execute_result"
    }
   ],
   "source": [
    "v = [\"THREAT\", \"NOT THREAT\"]\n",
    "l = [v for i in range(1500)]\n",
    "t = [element for sublist in l for element in sublist]\n",
    "random.shuffle(t)\n",
    "y_true = t\n",
    "len(y_true)"
   ]
  },
  {
   "cell_type": "code",
   "execution_count": 3,
   "id": "a48ed440",
   "metadata": {},
   "outputs": [
    {
     "name": "stdout",
     "output_type": "stream",
     "text": [
      "Frequency of items:  {'NOT THREAT': 1500, 'THREAT': 1500}\n"
     ]
    }
   ],
   "source": [
    "unique = list(set(y_true))\n",
    "frequency = {}\n",
    "for item in unique:\n",
    "    frequency[item] = y_true.count(item)\n",
    "print(\"Frequency of items: \", frequency)"
   ]
  },
  {
   "cell_type": "code",
   "execution_count": 4,
   "id": "4644aac9",
   "metadata": {},
   "outputs": [
    {
     "data": {
      "text/plain": [
       "3000"
      ]
     },
     "execution_count": 4,
     "metadata": {},
     "output_type": "execute_result"
    }
   ],
   "source": [
    "v = [\"THREAT\", \"NOT THREAT\", \"NOT ASSESSED\", \"NONE\"]\n",
    "l = [v for i in range(750)]\n",
    "p = [element for sublist in l for element in sublist]\n",
    "random.shuffle(p)\n",
    "y_pred = p\n",
    "len(y_pred)"
   ]
  },
  {
   "cell_type": "code",
   "execution_count": 5,
   "id": "3f7badfd",
   "metadata": {},
   "outputs": [
    {
     "name": "stdout",
     "output_type": "stream",
     "text": [
      "Frequency of items:  {'NOT THREAT': 750, 'NOT ASSESSED': 750, 'THREAT': 750, 'NONE': 750}\n"
     ]
    }
   ],
   "source": [
    "unique = list(set(y_pred))\n",
    "frequency = {}\n",
    "for item in unique:\n",
    "    frequency[item] = y_pred.count(item)\n",
    "print(\"Frequency of items: \", frequency)"
   ]
  },
  {
   "cell_type": "code",
   "execution_count": 6,
   "id": "01c96618",
   "metadata": {},
   "outputs": [],
   "source": [
    "true = pd.DataFrame (y_true, columns = ['true'])\n",
    "pred = pd.DataFrame (y_pred, columns = ['pred'])\n",
    "frames = [true,pred]\n",
    "df = pd.concat(frames, axis=1)"
   ]
  },
  {
   "cell_type": "code",
   "execution_count": 7,
   "id": "60fd700b",
   "metadata": {},
   "outputs": [],
   "source": [
    "df = df[df.pred != 'NOT ASSESSED']\n",
    "df = df[df.pred != 'NONE']"
   ]
  },
  {
   "cell_type": "code",
   "execution_count": 8,
   "id": "4dde9232",
   "metadata": {},
   "outputs": [
    {
     "data": {
      "text/html": [
       "<div>\n",
       "<style scoped>\n",
       "    .dataframe tbody tr th:only-of-type {\n",
       "        vertical-align: middle;\n",
       "    }\n",
       "\n",
       "    .dataframe tbody tr th {\n",
       "        vertical-align: top;\n",
       "    }\n",
       "\n",
       "    .dataframe thead th {\n",
       "        text-align: right;\n",
       "    }\n",
       "</style>\n",
       "<table border=\"1\" class=\"dataframe\">\n",
       "  <thead>\n",
       "    <tr style=\"text-align: right;\">\n",
       "      <th></th>\n",
       "      <th>true</th>\n",
       "      <th>pred</th>\n",
       "    </tr>\n",
       "  </thead>\n",
       "  <tbody>\n",
       "    <tr>\n",
       "      <th>3</th>\n",
       "      <td>NOT THREAT</td>\n",
       "      <td>THREAT</td>\n",
       "    </tr>\n",
       "    <tr>\n",
       "      <th>5</th>\n",
       "      <td>NOT THREAT</td>\n",
       "      <td>THREAT</td>\n",
       "    </tr>\n",
       "    <tr>\n",
       "      <th>7</th>\n",
       "      <td>NOT THREAT</td>\n",
       "      <td>NOT THREAT</td>\n",
       "    </tr>\n",
       "    <tr>\n",
       "      <th>12</th>\n",
       "      <td>NOT THREAT</td>\n",
       "      <td>THREAT</td>\n",
       "    </tr>\n",
       "    <tr>\n",
       "      <th>13</th>\n",
       "      <td>THREAT</td>\n",
       "      <td>THREAT</td>\n",
       "    </tr>\n",
       "    <tr>\n",
       "      <th>...</th>\n",
       "      <td>...</td>\n",
       "      <td>...</td>\n",
       "    </tr>\n",
       "    <tr>\n",
       "      <th>2994</th>\n",
       "      <td>THREAT</td>\n",
       "      <td>NOT THREAT</td>\n",
       "    </tr>\n",
       "    <tr>\n",
       "      <th>2995</th>\n",
       "      <td>THREAT</td>\n",
       "      <td>THREAT</td>\n",
       "    </tr>\n",
       "    <tr>\n",
       "      <th>2997</th>\n",
       "      <td>NOT THREAT</td>\n",
       "      <td>NOT THREAT</td>\n",
       "    </tr>\n",
       "    <tr>\n",
       "      <th>2998</th>\n",
       "      <td>THREAT</td>\n",
       "      <td>THREAT</td>\n",
       "    </tr>\n",
       "    <tr>\n",
       "      <th>2999</th>\n",
       "      <td>THREAT</td>\n",
       "      <td>THREAT</td>\n",
       "    </tr>\n",
       "  </tbody>\n",
       "</table>\n",
       "<p>1500 rows × 2 columns</p>\n",
       "</div>"
      ],
      "text/plain": [
       "            true        pred\n",
       "3     NOT THREAT      THREAT\n",
       "5     NOT THREAT      THREAT\n",
       "7     NOT THREAT  NOT THREAT\n",
       "12    NOT THREAT      THREAT\n",
       "13        THREAT      THREAT\n",
       "...          ...         ...\n",
       "2994      THREAT  NOT THREAT\n",
       "2995      THREAT      THREAT\n",
       "2997  NOT THREAT  NOT THREAT\n",
       "2998      THREAT      THREAT\n",
       "2999      THREAT      THREAT\n",
       "\n",
       "[1500 rows x 2 columns]"
      ]
     },
     "execution_count": 8,
     "metadata": {},
     "output_type": "execute_result"
    }
   ],
   "source": [
    "df"
   ]
  },
  {
   "cell_type": "code",
   "execution_count": 9,
   "id": "df3a49c8",
   "metadata": {},
   "outputs": [
    {
     "data": {
      "text/plain": [
       "true    1500\n",
       "pred    1500\n",
       "dtype: int64"
      ]
     },
     "execution_count": 9,
     "metadata": {},
     "output_type": "execute_result"
    }
   ],
   "source": [
    "df.count()"
   ]
  },
  {
   "cell_type": "code",
   "execution_count": 10,
   "id": "e3720d8c",
   "metadata": {},
   "outputs": [],
   "source": [
    "y_true = df['true'].to_numpy()"
   ]
  },
  {
   "cell_type": "code",
   "execution_count": 11,
   "id": "b5a4607c",
   "metadata": {},
   "outputs": [],
   "source": [
    "y_pred = df['pred'].to_numpy()"
   ]
  },
  {
   "cell_type": "markdown",
   "id": "656c1377",
   "metadata": {},
   "source": [
    "<hr />"
   ]
  },
  {
   "cell_type": "markdown",
   "id": "a229f501",
   "metadata": {},
   "source": [
    "## Confusion Matrix"
   ]
  },
  {
   "cell_type": "markdown",
   "id": "91e05e4a",
   "metadata": {},
   "source": [
    "### Using Matplotlib"
   ]
  },
  {
   "cell_type": "code",
   "execution_count": 15,
   "id": "3baa0eae",
   "metadata": {},
   "outputs": [
    {
     "data": {
      "image/png": "[encoded data removed]",
      "text/plain": [
       "<Figure size 640x480 with 2 Axes>"
      ]
     },
     "metadata": {},
     "output_type": "display_data"
    }
   ],
   "source": [
    "import matplotlib.pyplot as plt\n",
    "from sklearn.metrics import confusion_matrix, ConfusionMatrixDisplay\n",
    "confusion_matrix(y_true, y_pred)\n",
    "\n",
    "cm = confusion_matrix(y_true, y_pred, labels=None)\n",
    "disp = ConfusionMatrixDisplay(confusion_matrix=cm, display_labels=None)\n",
    "disp.plot()\n",
    "plt.show()"
   ]
  },
  {
   "cell_type": "markdown",
   "id": "58de622f",
   "metadata": {},
   "source": [
    "## Using Seaborn"
   ]
  },
  {
   "cell_type": "code",
   "execution_count": 18,
   "id": "44c41d28",
   "metadata": {},
   "outputs": [
    {
     "data": {
      "image/png": "[encoded data removed]",
      "text/plain": [
       "<Figure size 640x480 with 4 Axes>"
      ]
     },
     "metadata": {},
     "output_type": "display_data"
    }
   ],
   "source": [
    "import seaborn as sns\n",
    "sns.heatmap(cm, annot=True)\n",
    "plt.show()"
   ]
  },
  {
   "cell_type": "code",
   "execution_count": 23,
   "id": "80041fed",
   "metadata": {},
   "outputs": [
    {
     "data": {
      "image/png": "[encoded data removed]",
      "text/plain": [
       "<Figure size 640x480 with 3 Axes>"
      ]
     },
     "metadata": {},
     "output_type": "display_data"
    }
   ],
   "source": [
    "cf_matrix = cm\n",
    "group_names = ['True Neg','False Pos','False Neg','True Pos']\n",
    "group_counts = ['{0:0.0f}'.format(value) for value in\n",
    "                cf_matrix.flatten()]\n",
    "group_percentages = ['{0:.2%}'.format(value) for value in\n",
    "                     cf_matrix.flatten()/np.sum(cf_matrix)]\n",
    "labels = [f'{v1}\\n{v2}\\n{v3}' for v1, v2, v3 in\n",
    "          zip(group_names,group_counts,group_percentages)]\n",
    "labels = np.asarray(labels).reshape(2,2)\n",
    "sns.heatmap(cf_matrix, annot=labels, fmt='', cmap='Blues')\n",
    "plt.show()"
   ]
  },
  {
   "cell_type": "code",
   "execution_count": null,
   "id": "1b8e0eef",
   "metadata": {},
   "outputs": [],
   "source": []
  }
 ],
 "metadata": {
  "kernelspec": {
   "display_name": "Python [conda env:generalmachinelearningforgpusonpython3_7v1_0]",
   "language": "python",
   "name": "conda-env-generalmachinelearningforgpusonpython3_7v1_0-py"
  },
  "language_info": {
   "codemirror_mode": {
    "name": "ipython",
    "version": 3
   },
   "file_extension": ".py",
   "mimetype": "text/x-python",
   "name": "python",
   "nbconvert_exporter": "python",
   "pygments_lexer": "ipython3",
   "version": "3.7.12"
  }
 },
 "nbformat": 4,
 "nbformat_minor": 5
}
